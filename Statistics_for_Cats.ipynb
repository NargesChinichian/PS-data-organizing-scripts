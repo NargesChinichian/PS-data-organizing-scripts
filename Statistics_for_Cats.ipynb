{
 "cells": [
  {
   "cell_type": "code",
   "execution_count": 6,
   "id": "581ad4f8",
   "metadata": {},
   "outputs": [],
   "source": [
    "import pandas as pd\n",
    "# Read the category csv\n",
    "Cats = pd.read_csv('households_hhids_consumption_categories.csv',delimiter=\",\")\n",
    "#print(Cats)\n",
    "# Find our categories\n",
    "Cats_names = Cats[\"consumption_cat\"].unique()\n",
    "#print(Cats_names)\n",
    "# List all ids within categories and make a meta-list\n",
    "Cats_IDs_list=[]\n",
    "for i in range(0,len(Cats_names)):\n",
    "    Cats_IDs = Cats['hhid'].loc[Cats['consumption_cat'] == Cats_names[i]]\n",
    "    Cats_IDs_list.append(Cats_IDs)"
   ]
  },
  {
   "cell_type": "code",
   "execution_count": 7,
   "id": "712710b8",
   "metadata": {},
   "outputs": [
    {
     "name": "stdout",
     "output_type": "stream",
     "text": [
      "                          Very Low        Low     Middle       High  Very High\n",
      "Average Age              41.014559  42.972973  44.110169  44.823529  47.355556\n",
      "Education                14.415378  16.236131  18.338983  20.598039  20.555556\n",
      "Average Number of Heads   6.781165   6.768137   7.317797   7.754902   9.155556\n",
      "Average Number of Bikes   0.533212   0.623044   0.563559   0.382353   0.555556\n"
     ]
    }
   ],
   "source": [
    "import pandas as pd\n",
    "\n",
    "\n",
    "csv_file = \"peoplesun_hh_anon.csv\"\n",
    "\n",
    "# Read PeopleSuN csv file\n",
    "Hh_Table = pd.read_csv(csv_file,low_memory=False)\n",
    "\n",
    "\n",
    "def calculate_statistics(ids, df):\n",
    "    \"\"\" Function to calculate statistics for a given list of household IDs\n",
    "    \"\"\"\n",
    "    # Filter the DataFrame for the given IDs in a category\n",
    "    filtered_Hh_Table = df[df['hhid'].isin(ids)]\n",
    "    \n",
    "    # Calculate statistics mainly just mean\n",
    "    age_mean = filtered_Hh_Table['q106'].mean() #age\n",
    "    #education_distribution = filtered_Hh_Table['q209'].value_counts(normalize=True) * 100 #education\n",
    "    education = filtered_Hh_Table['q209'].mean()#education\n",
    "    number_of_heads = (filtered_Hh_Table['q203_1']+filtered_Hh_Table['q203_2']+filtered_Hh_Table['q203_3']+filtered_Hh_Table['q203_4']).mean() #number of adults\n",
    "    number_of_bikes = filtered_Hh_Table['q207_2'].mean()\n",
    "    \n",
    "    # Return a dictionary of statistics\n",
    "    return {\n",
    "        'Average Age': age_mean,\n",
    "        #'Education Distribution (%)': education_distribution.to_dict(),  # Convert series to dict\n",
    "        'Education': education,\n",
    "        'Average Number of Heads': number_of_heads,\n",
    "        'Average Number of Bikes': number_of_bikes\n",
    "    }\n",
    "\n",
    "# Lists of IDs\n",
    "lists = Cats_IDs_list\n",
    "list_names = Cats_names\n",
    "\n",
    "# Initialize an empty DataFrame for the results\n",
    "results_df = pd.DataFrame()\n",
    "\n",
    "# Calculate and store statistics for each list\n",
    "for list_, name in zip(lists, list_names):\n",
    "    stats = calculate_statistics(list_, Hh_Table)\n",
    "    # Convert stats to a DataFrame and transpose it\n",
    "    stats_df = pd.DataFrame([stats], index=[name]).transpose()\n",
    "    # Merge with the results DataFrame\n",
    "    results_df = pd.concat([results_df, stats_df], axis=1)\n",
    "\n",
    "# Display the final table\n",
    "print(results_df)\n"
   ]
  },
  {
   "cell_type": "code",
   "execution_count": 8,
   "id": "e9ca1bfe",
   "metadata": {},
   "outputs": [
    {
     "data": {
      "text/html": [
       "<div>\n",
       "<style scoped>\n",
       "    .dataframe tbody tr th:only-of-type {\n",
       "        vertical-align: middle;\n",
       "    }\n",
       "\n",
       "    .dataframe tbody tr th {\n",
       "        vertical-align: top;\n",
       "    }\n",
       "\n",
       "    .dataframe thead th {\n",
       "        text-align: right;\n",
       "    }\n",
       "</style>\n",
       "<table border=\"1\" class=\"dataframe\">\n",
       "  <thead>\n",
       "    <tr style=\"text-align: right;\">\n",
       "      <th></th>\n",
       "      <th>Very Low</th>\n",
       "      <th>Low</th>\n",
       "      <th>Middle</th>\n",
       "      <th>High</th>\n",
       "      <th>Very High</th>\n",
       "    </tr>\n",
       "  </thead>\n",
       "  <tbody>\n",
       "    <tr>\n",
       "      <th>Average Age</th>\n",
       "      <td>41.014559</td>\n",
       "      <td>42.972973</td>\n",
       "      <td>44.110169</td>\n",
       "      <td>44.823529</td>\n",
       "      <td>47.355556</td>\n",
       "    </tr>\n",
       "    <tr>\n",
       "      <th>Education</th>\n",
       "      <td>14.415378</td>\n",
       "      <td>16.236131</td>\n",
       "      <td>18.338983</td>\n",
       "      <td>20.598039</td>\n",
       "      <td>20.555556</td>\n",
       "    </tr>\n",
       "    <tr>\n",
       "      <th>Average Number of Heads</th>\n",
       "      <td>6.781165</td>\n",
       "      <td>6.768137</td>\n",
       "      <td>7.317797</td>\n",
       "      <td>7.754902</td>\n",
       "      <td>9.155556</td>\n",
       "    </tr>\n",
       "    <tr>\n",
       "      <th>Average Number of Bikes</th>\n",
       "      <td>0.533212</td>\n",
       "      <td>0.623044</td>\n",
       "      <td>0.563559</td>\n",
       "      <td>0.382353</td>\n",
       "      <td>0.555556</td>\n",
       "    </tr>\n",
       "  </tbody>\n",
       "</table>\n",
       "</div>"
      ],
      "text/plain": [
       "                          Very Low        Low     Middle       High  Very High\n",
       "Average Age              41.014559  42.972973  44.110169  44.823529  47.355556\n",
       "Education                14.415378  16.236131  18.338983  20.598039  20.555556\n",
       "Average Number of Heads   6.781165   6.768137   7.317797   7.754902   9.155556\n",
       "Average Number of Bikes   0.533212   0.623044   0.563559   0.382353   0.555556"
      ]
     },
     "execution_count": 8,
     "metadata": {},
     "output_type": "execute_result"
    }
   ],
   "source": [
    "results_df # Display nicer"
   ]
  },
  {
   "cell_type": "code",
   "execution_count": null,
   "id": "5cffe0b0",
   "metadata": {},
   "outputs": [],
   "source": []
  }
 ],
 "metadata": {
  "interpreter": {
   "hash": "b0fa6594d8f4cbf19f97940f81e996739fb7646882a419484c72d19e05852a7e"
  },
  "kernelspec": {
   "display_name": "Python 3 (ipykernel)",
   "language": "python",
   "name": "python3"
  },
  "language_info": {
   "codemirror_mode": {
    "name": "ipython",
    "version": 3
   },
   "file_extension": ".py",
   "mimetype": "text/x-python",
   "name": "python",
   "nbconvert_exporter": "python",
   "pygments_lexer": "ipython3",
   "version": "3.9.7"
  }
 },
 "nbformat": 4,
 "nbformat_minor": 5
}
