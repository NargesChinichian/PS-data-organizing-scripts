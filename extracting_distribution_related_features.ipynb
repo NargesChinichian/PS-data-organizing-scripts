{
 "cells": [
  {
   "cell_type": "code",
   "execution_count": 2,
   "id": "f0330561",
   "metadata": {},
   "outputs": [],
   "source": [
    "import csv\n",
    "import numpy as np\n",
    "import pandas as pd \n",
    "import matplotlib.pyplot as plt"
   ]
  },
  {
   "cell_type": "code",
   "execution_count": 102,
   "id": "51d39e20",
   "metadata": {},
   "outputs": [
    {
     "name": "stdout",
     "output_type": "stream",
     "text": [
      "South South ##############################\n",
      "For Light bulb mean is =  7.03 variance is =  21.78 q0 to q4 are =  0 4.0 6.0 9.0 43\n",
      "For Radio mean is =  0.40 variance is =  0.54 q0 to q4 are =  0 0.0 0.0 1.0 13\n",
      "For Mobile phone charger mean is =  2.34 variance is =  3.71 q0 to q4 are =  0 1.0 2.0 3.0 42\n",
      "For Television mean is =  0.97 variance is =  0.54 q0 to q4 are =  0 1.0 1.0 1.0 4\n",
      "For Laptop / Computer mean is =  0.14 variance is =  0.24 q0 to q4 are =  0 0.0 0.0 0.0 8\n",
      "For Fan mean is =  2.27 variance is =  2.57 q0 to q4 are =  0 1.0 2.0 3.0 13\n",
      "For Air cooler mean is =  0.01 variance is =  0.01 q0 to q4 are =  0 0.0 0.0 0.0 1\n",
      "For Fridge mean is =  0.57 variance is =  0.25 q0 to q4 are =  0 0.0 1.0 1.0 1\n",
      "For Washing machine mean is =  0.07 variance is =  0.07 q0 to q4 are =  0 0.0 0.0 0.0 1\n",
      "For Air conditioner mean is =  0.10 variance is =  0.09 q0 to q4 are =  0 0.0 0.0 0.0 1\n",
      "For Electric room heater mean is =  0.01 variance is =  0.01 q0 to q4 are =  0 0.0 0.0 0.0 1\n",
      "For Electric water heater mean is =  0.06 variance is =  0.05 q0 to q4 are =  0 0.0 0.0 0.0 1\n",
      "For Electric cooker mean is =  0.03 variance is =  0.03 q0 to q4 are =  0 0.0 0.0 0.0 1\n",
      "For Rice cooker mean is =  0.03 variance is =  0.03 q0 to q4 are =  0 0.0 0.0 0.0 1\n",
      "For Sewing machine mean is =  0.03 variance is =  0.03 q0 to q4 are =  0 0.0 0.0 0.0 1\n",
      "For Home mechanical appliances (e.g., Mixer, Blender) mean is =  0.23 variance is =  0.18 q0 to q4 are =  0 0.0 0.0 0.0 1\n",
      "For Home thermal appliances (e.g., Kettle, Iron) mean is =  0.54 variance is =  0.25 q0 to q4 are =  0 0.0 1.0 1.0 1\n",
      "North West ##############################\n",
      "For Light bulb mean is =  6.50 variance is =  18.99 q0 to q4 are =  0 4.0 6.0 8.0 40\n",
      "For Radio mean is =  0.49 variance is =  0.67 q0 to q4 are =  0 0.0 0.0 1.0 8\n",
      "For Mobile phone charger mean is =  2.05 variance is =  3.45 q0 to q4 are =  0 1.0 2.0 3.0 20\n",
      "For Television mean is =  0.46 variance is =  0.70 q0 to q4 are =  0 0.0 0.0 1.0 10\n",
      "For Laptop / Computer mean is =  0.05 variance is =  0.07 q0 to q4 are =  0 0.0 0.0 0.0 2\n",
      "For Fan mean is =  1.22 variance is =  3.81 q0 to q4 are =  0 0.0 0.0 2.0 20\n",
      "For Air cooler mean is =  0.00 variance is =  0.00 q0 to q4 are =  0 0.0 0.0 0.0 1\n",
      "For Fridge mean is =  0.14 variance is =  0.12 q0 to q4 are =  0 0.0 0.0 0.0 1\n",
      "For Washing machine mean is =  0.00 variance is =  0.00 q0 to q4 are =  0 0.0 0.0 0.0 1\n",
      "For Air conditioner mean is =  0.01 variance is =  0.01 q0 to q4 are =  0 0.0 0.0 0.0 1\n",
      "For Electric room heater mean is =  0.00 variance is =  0.00 q0 to q4 are =  0 0.0 0.0 0.0 1\n",
      "For Electric water heater mean is =  0.02 variance is =  0.02 q0 to q4 are =  0 0.0 0.0 0.0 1\n",
      "For Electric cooker mean is =  0.01 variance is =  0.01 q0 to q4 are =  0 0.0 0.0 0.0 1\n",
      "For Rice cooker mean is =  0.00 variance is =  0.00 q0 to q4 are =  0 0.0 0.0 0.0 1\n",
      "For Sewing machine mean is =  0.05 variance is =  0.04 q0 to q4 are =  0 0.0 0.0 0.0 1\n",
      "For Home mechanical appliances (e.g., Mixer, Blender) mean is =  0.06 variance is =  0.06 q0 to q4 are =  0 0.0 0.0 0.0 1\n",
      "For Home thermal appliances (e.g., Kettle, Iron) mean is =  0.18 variance is =  0.15 q0 to q4 are =  0 0.0 0.0 0.0 1\n",
      "North Central ##############################\n",
      "For Light bulb mean is =  6.78 variance is =  15.37 q0 to q4 are =  0 4.0 6.0 8.0 30\n",
      "For Radio mean is =  0.31 variance is =  0.36 q0 to q4 are =  0 0.0 0.0 1.0 6\n",
      "For Mobile phone charger mean is =  3.05 variance is =  6.04 q0 to q4 are =  0 2.0 3.0 4.0 32\n",
      "For Television mean is =  1.02 variance is =  1.02 q0 to q4 are =  0 0.0 1.0 1.0 12\n",
      "For Laptop / Computer mean is =  0.11 variance is =  0.15 q0 to q4 are =  0 0.0 0.0 0.0 5\n",
      "For Fan mean is =  2.17 variance is =  4.13 q0 to q4 are =  0 1.0 2.0 3.0 27\n",
      "For Air cooler mean is =  0.01 variance is =  0.01 q0 to q4 are =  0 0.0 0.0 0.0 1\n",
      "For Fridge mean is =  0.59 variance is =  0.24 q0 to q4 are =  0 0.0 1.0 1.0 1\n",
      "For Washing machine mean is =  0.05 variance is =  0.04 q0 to q4 are =  0 0.0 0.0 0.0 1\n",
      "For Air conditioner mean is =  0.07 variance is =  0.06 q0 to q4 are =  0 0.0 0.0 0.0 1\n",
      "For Electric room heater mean is =  0.01 variance is =  0.00 q0 to q4 are =  0 0.0 0.0 0.0 1\n",
      "For Electric water heater mean is =  0.08 variance is =  0.07 q0 to q4 are =  0 0.0 0.0 0.0 1\n",
      "For Electric cooker mean is =  0.09 variance is =  0.08 q0 to q4 are =  0 0.0 0.0 0.0 1\n",
      "For Rice cooker mean is =  0.01 variance is =  0.01 q0 to q4 are =  0 0.0 0.0 0.0 1\n",
      "For Sewing machine mean is =  0.04 variance is =  0.04 q0 to q4 are =  0 0.0 0.0 0.0 1\n",
      "For Home mechanical appliances (e.g., Mixer, Blender) mean is =  0.13 variance is =  0.11 q0 to q4 are =  0 0.0 0.0 0.0 1\n",
      "For Home thermal appliances (e.g., Kettle, Iron) mean is =  0.40 variance is =  0.24 q0 to q4 are =  0 0.0 0.0 1.0 1\n"
     ]
    }
   ],
   "source": [
    "appliance_names = ['Light bulb', 'Radio', 'Mobile phone charger', 'Television', 'Laptop / Computer', 'Fan',\n",
    "                    'Air cooler', 'Fridge', 'Washing machine', 'Air conditioner', 'Electric room heater',\n",
    "                    'Electric water heater', 'Electric cooker', 'Rice cooker', 'Sewing machine',\n",
    "                    'Home mechanical appliances (e.g., Mixer, Blender)', 'Home thermal appliances (e.g., Kettle, Iron)']\n",
    "\n",
    "for zone in [\"South South\", \"North West\",\"North Central\"]:\n",
    "    print(zone,\"##############################\")\n",
    "    index=0\n",
    "    for appliances in range(5,22):\n",
    "        vals =[]\n",
    "        with open ('./25_09_2022_peoplesun_hh_anon_for_RAMP.csv') as csv_file:\n",
    "            table = csv.reader(csv_file,delimiter=';')\n",
    "            next(table, None)\n",
    "            for row in table:\n",
    "                if row[2] == zone:\n",
    "                    vals.append(float(row[appliances]))\n",
    "        vals_np = np.array(vals,dtype = int)\n",
    "        vals_mean = np.mean(vals_np)\n",
    "        vals_var = np.var(vals_np)\n",
    "        vals_q0 = np.quantile(vals_np, q = 0)\n",
    "        vals_q1 = np.quantile(vals_np, q = 0.25)\n",
    "        vals_q2 = np.quantile(vals_np, q = 0.5)\n",
    "        vals_q3 = np.quantile(vals_np, q = 0.75)\n",
    "        vals_q4 = np.quantile(vals_np, q = 1)\n",
    "        print(\"For\",appliance_names[index],\"mean is = \",\"%.2f\" %vals_mean,\"variance is = \",\"%.2f\" %vals_var,\n",
    "              \"q0 to q4 are = \",vals_q0,vals_q1,vals_q2,vals_q3,vals_q4)\n",
    "        index = index +1"
   ]
  },
  {
   "cell_type": "code",
   "execution_count": null,
   "id": "93494fa0",
   "metadata": {},
   "outputs": [],
   "source": []
  }
 ],
 "metadata": {
  "kernelspec": {
   "display_name": "Python 3 (ipykernel)",
   "language": "python",
   "name": "python3"
  },
  "language_info": {
   "codemirror_mode": {
    "name": "ipython",
    "version": 3
   },
   "file_extension": ".py",
   "mimetype": "text/x-python",
   "name": "python",
   "nbconvert_exporter": "python",
   "pygments_lexer": "ipython3",
   "version": "3.9.7"
  }
 },
 "nbformat": 4,
 "nbformat_minor": 5
}
