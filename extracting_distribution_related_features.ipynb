{
 "cells": [
  {
   "cell_type": "code",
   "execution_count": null,
   "id": "f0330561",
   "metadata": {},
   "outputs": [],
   "source": [
    "import csv\n",
    "import numpy as np\n",
    "import pandas as pd \n",
    "import matplotlib.pyplot as plt"
   ]
  },
  {
   "cell_type": "code",
   "execution_count": null,
   "id": "93d537d7",
   "metadata": {},
   "outputs": [],
   "source": [
    "#Rows with hours data:\n",
    "#22 & 28 Light bulb\n",
    "#23 & 29 Radio\n",
    "#24 & 30 Mobile phone charger\n",
    "#25 & 31 Television\n",
    "#26 &  32 Laptop / Computer\n",
    "#27 & 33 Fan"
   ]
  },
  {
   "cell_type": "code",
   "execution_count": null,
   "id": "b903b3fe",
   "metadata": {},
   "outputs": [],
   "source": [
    "RAMP_table = pd.read_csv('../WP3_RAMP_input_template_with_estimations.csv',delimiter=\";\")\n",
    "RAMP_table = RAMP_table.fillna(0)\n",
    "\n",
    "\n",
    "appliance_names = ['Light bulb', 'Radio', 'Mobile phone charger', 'Television', 'Laptop / Computer', 'Fan',\n",
    "                    'Air cooler', 'Fridge', 'Washing machine', 'Air conditioner', 'Electric room heater',\n",
    "                    'Electric water heater', 'Electric cooker', 'Rice cooker', 'Sewing machine',\n",
    "                    'Home mechanical appliances (e.g., Mixer, Blender)', \n",
    "                    'Home thermal appliances (e.g., Kettle, Iron)']\n",
    "\n",
    "qs = [0,0.25,0.5,0.75,1]\n",
    "for zone in [\"South South\", \"North West\",\"North Central\"]:\n",
    "    print(zone,\"##############################\")\n",
    "    for q in qs:\n",
    "        index=0\n",
    "        for appliances in range(5,22):\n",
    "         \n",
    "            vals_numbers =[]\n",
    "            vals_tot_hours =[]\n",
    "            with open ('../25_09_2022_peoplesun_hh_anon_for_RAMP.csv') as csv_file:\n",
    "                table = csv.reader(csv_file,delimiter=';')\n",
    "                next(table, None)\n",
    "                for row in table:\n",
    "                    if row[2] == zone:\n",
    "                        vals_numbers.append(float(row[appliances]))\n",
    "                        if 22 <= appliances+17 <= 27:\n",
    "                            vals_tot_hours.append(float(row[appliances+17]) + float(row[appliances+23]))\n",
    "  \n",
    "            vals_numbers_np = np.array(vals_numbers,dtype = int)\n",
    "            vals_numbers_mean = np.mean(vals_numbers_np)\n",
    "            vals_numbers_var = np.var(vals_numbers_np)\n",
    "            vals_numbers_q = np.quantile(vals_numbers_np, q)\n",
    "            \n",
    "            if len(vals_tot_hours) !=0:\n",
    "                vals_tot_hours_np = np.array(vals_tot_hours,dtype = int)\n",
    "                vals_tot_hours_mean = np.mean(vals_tot_hours_np)\n",
    "                vals_tot_hours_var = np.var(vals_tot_hours_np)\n",
    "                vals_tot_hours_q = np.quantile(vals_tot_hours_np, q)\n",
    "\n",
    "#             vals_q0 = np.quantile(vals_np, q = 0)\n",
    "#             vals_q1 = np.quantile(vals_np, q = 0.25)\n",
    "#             vals_q2 = np.quantile(vals_np, q = 0.5)\n",
    "#             vals_q3 = np.quantile(vals_np, q = 0.75)\n",
    "#             vals_q4 = np.quantile(vals_np, q = 1)\n",
    "\n",
    "            for j in range(0,np.shape(RAMP_table)[0]):\n",
    "                if RAMP_table.loc[j].at[\"unified_names\"] == appliance_names[index]:\n",
    "                    #print(appliance_names[index])\n",
    "                    #print(RAMP_table.loc[j].at[\"number\"])\n",
    "                    RAMP_table.loc[j,\"number\"]= vals_numbers_q\n",
    "                    if len(vals_tot_hours) !=0:\n",
    "                        RAMP_table.loc[j,\"func_time\"]= round(vals_tot_hours_mean*60,2)\n",
    "                        RAMP_table.loc[j,\"time_fraction_random_variability\"]= round(vals_tot_hours_var,2)\n",
    "                    #print(RAMP_table.loc[j].at[\"number\"])\n",
    "\n",
    "#             print(\"For\",appliance_names[index],\"mean is = \",\"%.2f\" %vals_mean,\"variance is = \",\"%.2f\" %vals_var,\n",
    "#                   \"q0 to q4 are = \",vals_q0,vals_q1,vals_q2,vals_q3,vals_q4)\n",
    "            index = index +1\n",
    "        RAMP_table.to_csv(\"../RAMP_input_zones/%s_RAMP_input_q_%s.csv\"%(zone,q))"
   ]
  },
  {
   "cell_type": "code",
   "execution_count": null,
   "id": "942c149c",
   "metadata": {},
   "outputs": [],
   "source": [
    "RAMP_table"
   ]
  },
  {
   "cell_type": "code",
   "execution_count": null,
   "id": "9d4d9700",
   "metadata": {},
   "outputs": [],
   "source": [
    "pwd"
   ]
  },
  {
   "cell_type": "code",
   "execution_count": null,
   "id": "51d39e20",
   "metadata": {},
   "outputs": [],
   "source": [
    "#Not neccesary (just for double-checking and reading the numbers:)\n",
    "\n",
    "appliance_names = ['Light bulb', 'Radio', 'Mobile phone charger', 'Television', 'Laptop / Computer', 'Fan',\n",
    "                    'Air cooler', 'Fridge', 'Washing machine', 'Air conditioner', 'Electric room heater',\n",
    "                    'Electric water heater', 'Electric cooker', 'Rice cooker', 'Sewing machine',\n",
    "                    'Home mechanical appliances (e.g., Mixer, Blender)', 'Home thermal appliances (e.g., Kettle, Iron)']\n",
    "\n",
    "for zone in [\"South South\", \"North West\",\"North Central\"]:\n",
    "    print(zone,\"##############################\")\n",
    "    index=0\n",
    "    for appliances in range(5,22):\n",
    "        vals =[]\n",
    "        with open ('./25_09_2022_peoplesun_hh_anon_for_RAMP.csv') as csv_file:\n",
    "            table = csv.reader(csv_file,delimiter=';')\n",
    "            next(table, None)\n",
    "            for row in table:\n",
    "                if row[2] == zone:\n",
    "                    vals.append(float(row[appliances]))\n",
    "        vals_np = np.array(vals,dtype = int)\n",
    "        vals_mean = np.mean(vals_np)\n",
    "        vals_var = np.var(vals_np)\n",
    "        vals_q0 = np.quantile(vals_np, q = 0)\n",
    "        vals_q1 = np.quantile(vals_np, q = 0.25)\n",
    "        vals_q2 = np.quantile(vals_np, q = 0.5)\n",
    "        vals_q3 = np.quantile(vals_np, q = 0.75)\n",
    "        vals_q4 = np.quantile(vals_np, q = 1)\n",
    "        print(\"For\",appliance_names[index],\"mean is = \",\"%.2f\" %vals_mean,\"variance is = \",\"%.2f\" %vals_var,\n",
    "              \"q0 to q4 are = \",vals_q0,vals_q1,vals_q2,vals_q3,vals_q4)\n",
    "        index = index +1"
   ]
  },
  {
   "cell_type": "code",
   "execution_count": null,
   "id": "93494fa0",
   "metadata": {},
   "outputs": [],
   "source": []
  }
 ],
 "metadata": {
  "kernelspec": {
   "display_name": "Python 3 (ipykernel)",
   "language": "python",
   "name": "python3"
  },
  "language_info": {
   "codemirror_mode": {
    "name": "ipython",
    "version": 3
   },
   "file_extension": ".py",
   "mimetype": "text/x-python",
   "name": "python",
   "nbconvert_exporter": "python",
   "pygments_lexer": "ipython3",
   "version": "3.9.7"
  }
 },
 "nbformat": 4,
 "nbformat_minor": 5
}
